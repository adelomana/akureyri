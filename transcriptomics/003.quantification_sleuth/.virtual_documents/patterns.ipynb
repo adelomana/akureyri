# venn diagram
# generate heatmap with all response genes, all! Then explore subsets.
# generate PCA with the response genes at 3D and then the healthy samples


import os, pandas, supervenn, matplotlib_venn


import venny4py, venny4py.venny4py


import matplotlib, matplotlib.pyplot
matplotlib.rcParams.update({'font.size':20, 
                            'font.family':'sans-serif', 
                            'xtick.labelsize':16, 
                            'ytick.labelsize':16, 
                            'figure.figsize':(16*(2/3), 9*(2/3)), 
                            'axes.labelsize':20
                           })





results_dir = '/Users/adrian/research/akureyri/results/sleuth_pipeline/'





elements = os.listdir(results_dir)
working_files = [element for element in elements if 'formatted' in element]
print(working_files)

response_genes = {}
for file in working_files:
    label = file.split('.formatted')[0]
    input_file = results_dir + file
    df = pandas.read_csv(input_file, sep='\t', index_col=0)
    genes = df.index.to_list()
    response_genes[label] = genes
    print(label, len(genes))





# venn diagram
# https://github.com/gecko984/supervenn
#https://stackoverflow.com/questions/71902175/create-venn-diagram-in-python-with-4-circles
a = set(response_genes['effect_culture_day2'])
b = set(response_genes['effect_culture_day14'])
c = set(response_genes['effect_time_2D'])
d = set(response_genes['effect_time_3D'])

union = a.union(b, c, d)
print('all sets', len(list(union)))

union_culture = a.union(b)
print('all culture', len(list(union_culture)))

union_time = c.union(d)
print('all time', len(list(union_time)))

matplotlib_venn.venn2(subsets=(union_culture, union_time),
                      set_labels=('culture', 'time'), 
                      set_colors=('skyblue', 'gold'),
                      alpha=2/3)
matplotlib_venn.venn2_circles(subsets=(union_culture, union_time))  

#matplotlib.pyplot.show()
matplotlib.pyplot.savefig('venn_broad.svg')


sets = [a, b, c, d]
labels = ['Effect culture Day 2', 'Effect culture Day 14', 'Effect time 2D', 'Effect time 3D']
mso = supervenn.supervenn(sets, labels,
                          side_plots=False, chunks_ordering='size', sets_ordering='size',
                          reverse_sets_order=False, fontsize=12)

#matplotlib.pyplot.show()
matplotlib.pyplot.savefig('supervenn.svg')


mso.chunks[frozenset([0, 2])] 

# arent we interested in things that respond to change, so green three sets?
# how would you interpret the majority of 903 genes? are we interested in them? probablu not.
# set 903, already responsed on day 2 and not in day 14
# really need to reflect on what we want.
# are we really interested on thigs that are different on day 2 but never seen again? 
#### What about things that are observed on day 2, day 14 and also change or not with time in 3D??

### NEED TO GO OVER ALL EXHAUSTIVE CASES AS A HUMAN AND DECIDE


sets = {
    'Effect culture Day 2': set(response_genes['effect_culture_day2']),
    'Effect culture Day 14': set(response_genes['effect_culture_day14']),
    'Effect time 2D': set(response_genes['effect_time_2D']),
    'Effect time 3D': set(response_genes['effect_time_3D'])
}
    
venny4py.venny4py.venny4py(sets=sets)

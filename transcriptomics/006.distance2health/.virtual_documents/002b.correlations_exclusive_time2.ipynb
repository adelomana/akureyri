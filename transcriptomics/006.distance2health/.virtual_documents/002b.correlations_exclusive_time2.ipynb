import pandas, numpy


import scipy, scipy.stats


import sklearn, sklearn.preprocessing, sklearn.decomposition


import seaborn
seaborn.set_style("white")


import matplotlib, matplotlib.pyplot
matplotlib.rcParams.update({'font.size':20, 
                            'font.family':'sans-serif', 
                            'xtick.labelsize':16, 
                            'ytick.labelsize':16, 
                            'figure.figsize':(16*(2/3), 9*(2/3)), 
                            'axes.labelsize':20
                           })





public_data_file = '/Users/adrian/research/akureyri/results/distance2health/public_data_converted_tpm.tsv'
inhouse_data_file = '/Users/adrian/research/akureyri/results/sleuth_pipeline/sleuth_tpm_bygene.tsv'
selected_genes_files = '/Users/adrian/research/akureyri/results/sleuth_pipeline/geneset_effect_culture_strictlydaytwo.tsv'





df = pandas.read_csv(public_data_file, sep='\t')
log2tpm_public = numpy.log2(df + 1)
log2tpm_public


df = pandas.read_csv(inhouse_data_file, sep='\t')
log2tpm_private = numpy.log2(df + 1)
log2tpm_private


df = pandas.read_csv(selected_genes_files, sep='\t')
selected_genes = df['0']
selected_genes


log2tpm_private = log2tpm_private.loc[selected_genes]
log2tpm_private.shape





g = seaborn.violinplot(data=log2tpm_public, color='white')
g.set(ylabel='log2 TPM + 1', xlabel='Samples')
g.set_xticklabels(g.get_xticklabels(), rotation=30, fontsize=12)
matplotlib.pyplot.grid(ls=':')
matplotlib.pyplot.tight_layout()
matplotlib.pyplot.show()


g = seaborn.violinplot(data=log2tpm_private, color='white')
g.set(ylabel='log2 TPM + 1', xlabel='Samples')
g.set_xticklabels(g.get_xticklabels(), rotation=30, fontsize=12)
matplotlib.pyplot.grid(ls=':')
matplotlib.pyplot.tight_layout()
matplotlib.pyplot.show()





print(log2tpm_public.shape)
print(log2tpm_private.shape)
merged = pandas.concat([log2tpm_public, log2tpm_private], axis=1, join="inner")
print(merged.shape)
merged.head()


merged = pandas.concat([log2tpm_public, log2tpm_private], axis=1, join="inner")
print(merged.shape)

g = seaborn.violinplot(data=merged, color='white')
g.set(ylabel='log2 TPM + 1', xlabel='Samples')
g.set_xticklabels(g.get_xticklabels(), rotation=45, fontsize=12)
matplotlib.pyplot.grid(ls=':')
matplotlib.pyplot.tight_layout()
matplotlib.pyplot.show()


###
### quantile normalization |  taken from https://cmdlinetips.com/2020/06/computing-quantile-normalization-in-python/
###

# step 1/3: sorting sample values
df_sorted = pandas.DataFrame(numpy.sort(merged.values, axis=0), 
                             index=merged.index, 
                             columns=merged.columns)
# step 2/3: averaging rank values across samples
df_mean = df_sorted.mean(axis=1)
df_mean.index = numpy.arange(1, len(df_mean) + 1)
# step 3/3: re-ordering samples
df_qn = merged.rank(method="min").stack().astype(int).map(df_mean).unstack()


g = seaborn.violinplot(data=df_qn, color='white')
g.set(ylabel='log2 TPM + 1', xlabel='Samples')
g.set_xticklabels(g.get_xticklabels(), rotation=45, fontsize=12)
matplotlib.pyplot.grid(ls=':')
matplotlib.pyplot.tight_layout()
matplotlib.pyplot.show()





legend_elements = [

    matplotlib.lines.Line2D([0], [0], color='white', marker='o', markerfacecolor='white', markeredgecolor='black', markersize=20, alpha=2/3),
    matplotlib.lines.Line2D([0], [0], color='white', marker='s', markerfacecolor='white', markeredgecolor='black', markersize=20, alpha=2/3),
    matplotlib.lines.Line2D([0], [0], color='white', marker='D', markerfacecolor='tab:green', markeredgecolor='white', markersize=20, alpha=2/3),
    
    matplotlib.patches.Patch(facecolor='skyblue', edgecolor='white', alpha=2/3),
    matplotlib.patches.Patch(facecolor='gold', edgecolor='white', alpha=2/3)
]


dfpca = df_qn.transpose()
selected_samples = [element for element in dfpca.index if 'Normal' not in element]
print(selected_samples)

trimmed = dfpca.loc[selected_samples]
trimmed

top100 = trimmed.sum(axis=0).sort_values(ascending=False)[:900].index
selected = trimmed[top100]
selected.shape

my_colors = ['tab:green']*10 + ['skyblue', 'skyblue', 'gold', 'gold']*3
my_markers = ['D']*10 + ['o', 's']*6

scaled_data = sklearn.preprocessing.StandardScaler().fit_transform(selected)
model = sklearn.decomposition.PCA(n_components=2)
new = model.fit_transform(scaled_data)
explained = model.explained_variance_ratio_
print(explained)

for i in range(len(new)):
    matplotlib.pyplot.scatter(new[i,0], new[i,1], s=666, c=my_colors[i], marker=my_markers[i], alpha=2/3, edgecolors='none')
    
matplotlib.pyplot.legend(legend_elements, ['2D culture', '3D culture', 'cartilage', 't = 2 day', 't = 14 day'], ncol=2, loc='upper left', bbox_to_anchor=(1.05, 1))
    
matplotlib.pyplot.xlabel('PC1 (exp. var.: {}%)'.format(int(explained[0]*100)))
matplotlib.pyplot.ylabel('PC2 (exp. var.: {}%)'.format(int(explained[1]*100)))
matplotlib.pyplot.grid(alpha=0.5, ls=':')

matplotlib.pyplot.show()


# PCA
dfpca = df_qn.transpose()
top100 = dfpca.sum(axis=0).sort_values(ascending=False)[:100].index
selected = dfpca[top100]
selected.shape

my_colors = ['tab:green']*18 + ['skyblue', 'skyblue', 'gold', 'gold']*3
my_markers = ['D']*18 + ['o', 's']*6

scaled_data = sklearn.preprocessing.StandardScaler().fit_transform(selected)
model = sklearn.decomposition.PCA(n_components=2)
new = model.fit_transform(scaled_data)
explained = model.explained_variance_ratio_
print(explained)

for i in range(len(new)):
    matplotlib.pyplot.scatter(new[i,0], new[i,1], s=666, c=my_colors[i], marker=my_markers[i], alpha=2/3, edgecolors='none')
    #matplotlib.pyplot.text(new[i, 0], new[i, 1], dfpca.index[i])
    
matplotlib.pyplot.legend(legend_elements, ['2D culture', '3D culture', 'cartilage', 't = 2 day', 't = 14 day'], ncol=2, loc='upper left', bbox_to_anchor=(1.05, 1))
    
matplotlib.pyplot.xlabel('PC1 (exp. var.: {}%)'.format(int(explained[0]*100)))
matplotlib.pyplot.ylabel('PC2 (exp. var.: {}%)'.format(int(explained[1]*100)))
matplotlib.pyplot.grid(alpha=0.5, ls=':')

matplotlib.pyplot.show()

#matplotlib.pyplot.savefig('pca.svg')


correlation = df_qn.corr(method='spearman')

# generate the figure with metabolite names
linkage_method = 'complete'
distance_metric = 'euclidean'

seaborn.set(font_scale=0.9)
seaborn.clustermap(correlation, cmap='cividis', col_cluster=True,
                   method=linkage_method, metric=distance_metric)

matplotlib.pyplot.title('{} {}'.format(linkage_method, distance_metric))
matplotlib.pyplot.tight_layout()



# get a median normal Get three correlations for T2 2D and T2 3D
normals = df_qn.iloc[:, 0:18].median(axis=1)
cultures_2d = df_qn[['test05', 'test01', 'test09']].median(axis=1)
cultures_3d = df_qn[['test10', 'test02', 'test06']].median(axis=1)


matplotlib.pyplot.plot(normals, cultures_2d, 'ok')


matplotlib.pyplot.plot(normals, cultures_3d, 'ok')


two = []; three = []

# 2D
for sample_name in ['test05', 'test01', 'test09']:
    r, p = scipy.stats.pearsonr(normals, df_qn[sample_name])
    two.append(r)
    
# 3D
for sample_name in ['test10', 'test02', 'test06']:
    r, p = scipy.stats.pearsonr(normals, df_qn[sample_name])
    three.append(r)

# print and test
print(two, three)
scipy.stats.ttest_ind(two, three)


# plot
seaborn.reset_orig()
import matplotlib, matplotlib.pyplot
matplotlib.rcParams.update({'font.size':20, 
                            'font.family':'sans-serif', 
                            'xtick.labelsize':16, 
                            'ytick.labelsize':16, 
                            'figure.figsize':(16*(2/3), 9*(2/3)), 
                            'axes.labelsize':20
                           })

matplotlib.pyplot.boxplot([two, three])
matplotlib.pyplot.ylim([0.35, 0.55])
matplotlib.pyplot.yticks([0.35, 0.4, 0.45, 0.5, 0.55])
matplotlib.pyplot.xticks(ticks=[1, 2], labels=['2D', '3D'])
matplotlib.pyplot.ylabel('Distance to healthy cartilage (PPC)')
matplotlib.pyplot.grid(ls=':', alpha=1/2)
matplotlib.pyplot.show()

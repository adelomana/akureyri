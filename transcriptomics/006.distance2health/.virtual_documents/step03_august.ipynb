import pandas, numpy


import seaborn
seaborn.set_style("white")


import matplotlib, matplotlib.pyplot
matplotlib.rcParams.update({'font.size':20, 
                            'font.family':'sans-serif', 
                            'xtick.labelsize':16, 
                            'ytick.labelsize':16, 
                            'figure.figsize':(16*(2/3), 9*(2/3)), 
                            'axes.labelsize':20
                           })





public_data_file = '/Users/adrian/research/akureyri/results/distance2health/public_data_converted_tpm.tsv'
inhouse_data_file = '/Users/adrian/research/akureyri/results/sleuth_pipeline/sleuth_tpm_bygene.tsv'





df = pandas.read_csv(public_data_file, sep='\t')
log2tpm_public = numpy.log2(df + 1)
log2tpm_public


df = pandas.read_csv(inhouse_data_file, sep='\t')
log2tpm_private = numpy.log2(df + 1)
log2tpm_private





g = seaborn.violinplot(data=log2tpm_public, color='white')
g.set(ylabel='log2 TPM + 1', xlabel='Samples')
g.set_xticklabels(g.get_xticklabels(), rotation=30, fontsize=12)
matplotlib.pyplot.grid(ls=':')
matplotlib.pyplot.tight_layout()
matplotlib.pyplot.show()


g = seaborn.violinplot(data=log2tpm_private, color='white')
g.set(ylabel='log2 TPM + 1', xlabel='Samples')
g.set_xticklabels(g.get_xticklabels(), rotation=30, fontsize=12)
matplotlib.pyplot.grid(ls=':')
matplotlib.pyplot.tight_layout()
matplotlib.pyplot.show()


# merge and plot both data set


print(log2tpm_public.shape)
print(log2tpm_private.shape)
merged = pandas.concat([log2tpm_public, log2tpm_private], axis=1, join="inner")
print(merged.shape)
merged.head()


merged = pandas.concat([log2tpm_public, log2tpm_private], axis=1, join="inner")
print(merged.shape)

g = seaborn.violinplot(data=merged, color='white')
g.set(ylabel='log2 TPM + 1', xlabel='Samples')
g.set_xticklabels(g.get_xticklabels(), rotation=45, fontsize=12)
matplotlib.pyplot.grid(ls=':')
matplotlib.pyplot.tight_layout()
matplotlib.pyplot.show()
















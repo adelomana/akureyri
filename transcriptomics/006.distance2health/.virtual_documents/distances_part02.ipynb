import pandas, seaborn, numpy


import sklearn, sklearn.preprocessing, sklearn.decomposition


import matplotlib, matplotlib.pyplot
matplotlib.rcParams.update({'font.size':20, 
                            'font.family':'sans-serif', 
                            'xtick.labelsize':16, 
                            'ytick.labelsize':16, 
                            'figure.figsize':(16*(2/3), 9*(2/3)), 
                            'axes.labelsize':20
                           })





merged_expression = '/Users/adrian/research/akureyri/results/distances/expression.tsv'
metadata_file = '/Users/adrian/research/akureyri/results/deseq2_pipeline/metadata.tsv'





metadata = pandas.read_csv(metadata_file, sep='\t', index_col=0)


df = pandas.read_csv(merged_expression, sep='\t', index_col=0)
df.drop(['symbol'], axis=1, inplace=True)
df.head()





selected_columns = [column for column in df.columns if 'ormal' in column]
log2cpm = df[selected_columns]
cpm = 2**log2cpm
normal = numpy.log2(cpm + 1)
normal.head()

seaborn.set_style("white")
g = seaborn.violinplot(data=normal, color='white')
g.set(ylabel='log2 CPM + 1', xlabel='Samples', title='Before QN')
g.set_xticklabels(g.get_xticklabels(), rotation=-90, fontsize=12)
matplotlib.pyplot.grid(ls=':')
matplotlib.pyplot.tight_layout()
matplotlib.pyplot.show()


selected_columns = [column for column in df.columns if 'ormal' not in column]
cultures = numpy.log2(df[selected_columns] + 1)

g = seaborn.violinplot(data=cultures, color='white')
g.set(ylabel='est. counts + 1', xlabel='Samples', title='Before QN')
g.set_xticklabels(g.get_xticklabels(), rotation=-90, fontsize=12)
matplotlib.pyplot.grid(ls=':')
matplotlib.pyplot.tight_layout()
matplotlib.pyplot.show()


full = normal.join(cultures)


g = seaborn.violinplot(data=full, color='white')
g.set(ylabel='CPM + 1', xlabel='Samples', title='Before QN')
g.set_xticklabels(g.get_xticklabels(), rotation=-90, fontsize=12)
matplotlib.pyplot.grid(ls=':')
matplotlib.pyplot.tight_layout()
matplotlib.pyplot.show()








###
### quantile normalization |  taken from https://cmdlinetips.com/2020/06/computing-quantile-normalization-in-python/
###

# step 1/3: sorting sample values
df_sorted = pandas.DataFrame(numpy.sort(full.values, axis=0), 
                             index=full.index, 
                             columns=full.columns)
# step 2/3: averaging rank values across samples
df_mean = df_sorted.mean(axis=1)
df_mean.index = numpy.arange(1, len(df_mean) + 1)
# step 3/3: re-ordering samples
df_qn = full.rank(method="min").stack().astype(int).map(df_mean).unstack()


g = seaborn.violinplot(data=df_qn, color='white')
g.set(ylabel='CPM + 1', xlabel='Samples', title='After QN')
g.set_xticklabels(g.get_xticklabels(), rotation=-90, fontsize=12)
matplotlib.pyplot.grid(ls=':')
matplotlib.pyplot.tight_layout()
matplotlib.pyplot.show()


correlation = df_qn.corr(method='spearman')

# generate the figure with metabolite names
linkage_method = 'complete'
distance_metric = 'euclidean'

seaborn.set(font_scale=0.9)
seaborn.clustermap(correlation, cmap='cividis', col_cluster=True,
                   method=linkage_method, metric=distance_metric)

matplotlib.pyplot.title('{} {}'.format(linkage_method, distance_metric))
matplotlib.pyplot.tight_layout()



# plot distributions
# Quantile normalize
# plot distances
# show correlations between 2D and 3D and healthy ones.
# consider two boxplots with Spearman correlation coefficients




import pandas, numpy


import seaborn
seaborn.set_style("white")


import matplotlib, matplotlib.pyplot
matplotlib.rcParams.update({'font.size':20, 
                            'font.family':'sans-serif', 
                            'xtick.labelsize':16, 
                            'ytick.labelsize':16, 
                            'figure.figsize':(16*(2/3), 9*(2/3)), 
                            'axes.labelsize':20
                           })





public_data_file = '/Users/adrian/research/akureyri/results/distance2health/public_data_converted_tpm.tsv'
inhouse_data_file = '/Users/adrian/research/akureyri/results/sleuth_pipeline/sleuth_tpm_bygene.tsv'
selected_genes_files = '/Users/adrian/research/akureyri/results/sleuth_pipeline/geneset_effect_culture_strictlydaytwo.tsv'





df = pandas.read_csv(public_data_file, sep='\t')
log2tpm_public = numpy.log2(df + 1)
log2tpm_public


df = pandas.read_csv(inhouse_data_file, sep='\t')
log2tpm_private = numpy.log2(df + 1)
log2tpm_private


df = pandas.read_csv(selected_genes_files, sep='\t')
selected_genes = df['0']
selected_genes


log2tpm_private = log2tpm_private.loc[selected_genes]
log2tpm_private.shape





g = seaborn.violinplot(data=log2tpm_public, color='white')
g.set(ylabel='log2 TPM + 1', xlabel='Samples')
g.set_xticklabels(g.get_xticklabels(), rotation=30, fontsize=12)
matplotlib.pyplot.grid(ls=':')
matplotlib.pyplot.tight_layout()
matplotlib.pyplot.show()


g = seaborn.violinplot(data=log2tpm_private, color='white')
g.set(ylabel='log2 TPM + 1', xlabel='Samples')
g.set_xticklabels(g.get_xticklabels(), rotation=30, fontsize=12)
matplotlib.pyplot.grid(ls=':')
matplotlib.pyplot.tight_layout()
matplotlib.pyplot.show()





print(log2tpm_public.shape)
print(log2tpm_private.shape)
merged = pandas.concat([log2tpm_public, log2tpm_private], axis=1, join="inner")
print(merged.shape)
merged.head()


merged = pandas.concat([log2tpm_public, log2tpm_private], axis=1, join="inner")
print(merged.shape)

g = seaborn.violinplot(data=merged, color='white')
g.set(ylabel='log2 TPM + 1', xlabel='Samples')
g.set_xticklabels(g.get_xticklabels(), rotation=45, fontsize=12)
matplotlib.pyplot.grid(ls=':')
matplotlib.pyplot.tight_layout()
matplotlib.pyplot.show()


###
### quantile normalization |  taken from https://cmdlinetips.com/2020/06/computing-quantile-normalization-in-python/
###

# step 1/3: sorting sample values
df_sorted = pandas.DataFrame(numpy.sort(merged.values, axis=0), 
                             index=merged.index, 
                             columns=merged.columns)
# step 2/3: averaging rank values across samples
df_mean = df_sorted.mean(axis=1)
df_mean.index = numpy.arange(1, len(df_mean) + 1)
# step 3/3: re-ordering samples
df_qn = merged.rank(method="min").stack().astype(int).map(df_mean).unstack()


g = seaborn.violinplot(data=df_qn, color='white')
g.set(ylabel='log2 TPM + 1', xlabel='Samples')
g.set_xticklabels(g.get_xticklabels(), rotation=45, fontsize=12)
matplotlib.pyplot.grid(ls=':')
matplotlib.pyplot.tight_layout()
matplotlib.pyplot.show()


correlation = df_qn.corr(method='spearman')

# generate the figure with metabolite names
linkage_method = 'complete'
distance_metric = 'euclidean'

seaborn.set(font_scale=0.9)
seaborn.clustermap(correlation, cmap='cividis', col_cluster=True,
                   method=linkage_method, metric=distance_metric)

matplotlib.pyplot.title('{} {}'.format(linkage_method, distance_metric))
matplotlib.pyplot.tight_layout()








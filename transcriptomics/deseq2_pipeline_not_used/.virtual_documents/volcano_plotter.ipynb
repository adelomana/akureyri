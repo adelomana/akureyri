import pandas, numpy


import matplotlib, matplotlib.pyplot
matplotlib.rcParams.update({'font.size':20, 
                            'font.family':'sans-serif', 
                            'xtick.labelsize':16, 
                            'ytick.labelsize':16, 
                            'figure.figsize':(16*(2/3), 9*(2/3)), 
                            'axes.labelsize':20
                           })





data_folder = '/Users/adrian/research/akureyri/results/deseq2_pipeline/'
expression_file = '/Users/adrian/research/akureyri/results/deseq2_pipeline/DESeq2_TPM_values.tsv'
metadata_file = '/Users/adrian/research/akureyri/results/deseq2_pipeline/metadata.tsv'
annotation_file = '/Users/adrian/research/akureyri/results/deseq2_pipeline/annotation.tsv'
results_dir = '/Users/adrian/research/akureyri/results/deseq2_pipeline/'

tpm_threshold = 2





tpm = pandas.read_csv(expression_file, sep='\t', index_col=0)
tpm.head()


metadata = pandas.read_csv(metadata_file, sep='\t')
metadata.head()


annotation = pandas.read_csv(annotation_file, sep='\t')
annotation.head()





%%time

def volcano_plotter(contrast):

    input_file_name = contrast[0]
    sorting_label_1 = contrast[1]
    sorting_label_2 = contrast[2]
    sorting_label_3 = contrast[3]
    sorting_label_4 = contrast[4]

    # define contrast data
    input_file = data_folder + input_file_name
    df = pandas.read_csv(input_file, sep='\t')
    print(df.shape)
    print(df.head())

    # define contrast antidata
    input_file_name = input_file_name.replace('.tsv', '.anti.tsv')
    input_file = data_folder + input_file_name
    anti = pandas.read_csv(input_file, sep='\t')
    print(anti.shape)
    print(anti.head())

    # subset expression data
    sub = metadata[metadata[sorting_label_1] == sorting_label_2]
    sub = sub.sort_values(sorting_label_3, ascending=bool(sorting_label_4))
    labels = sub['sample']
    subset_tpm = tpm[labels]

    print(labels)
    print(sub)
    print(subset_tpm.head())

    # identify responding genes
    a = subset_tpm[subset_tpm.iloc[:, :3].median(axis=1) > tpm_threshold].index.to_list()
    b = subset_tpm[subset_tpm.iloc[:, 3:].median(axis=1) > tpm_threshold].index.to_list()
    union = list(set(a).union(b))
    print(len(union))
    response_genes = list(set(df.index) & set(union))
    print(len(response_genes))

    # plot
    x = df.loc[response_genes, 'log2FoldChange']
    y = -numpy.log10(df.loc[response_genes, 'padj'])
    z = numpy.log10(subset_tpm.loc[response_genes, :].median(axis=1) + 1)
    
    str_x = ['{:.4f}'.format(element) for element in x]
    str_y = ['{:.2e}'.format(10**(-element)) for element in y]
    str_z = ['{:.2f}'.format(10**(element)) for element in z]
    srt_qr = ['{:.3f}'.format(numpy.sqrt(a**2 + b**2 + c**2)) for a, b, c in zip(x, y, z)]
    
    x = numpy.clip(x, -5, 5)
    y = numpy.clip(y, 0, 30)
    matplotlib.pyplot.scatter(x, y, s=100, c=z, cmap='viridis', 
                              vmin=0, vmax=3, alpha=2/3, edgecolors='none')
    matplotlib.pyplot.colorbar(ticks=[0, 1, 2, 3], label='Expression [log$_{10}$ TPM]')
    
    x = anti['log2FoldChange']
    y = -numpy.log10(anti['padj'])
    x = numpy.clip(x, -5, 5)
    y = numpy.clip(y, 0, 30)
    matplotlib.pyplot.scatter(x, y, color='gray', s=20, alpha=0.05, edgecolors='none')
    
    matplotlib.pyplot.plot([-1, -1], [-numpy.log10(0.05), 30], ls='--', color='black', alpha=0.5)
    matplotlib.pyplot.plot([1, 1], [-numpy.log10(0.05), 30], ls='--', color='black', alpha=0.5)
    matplotlib.pyplot.plot([-5, -1], [-numpy.log10(0.05), -numpy.log10(0.05)], ls='--', color='black', alpha=0.5)
    matplotlib.pyplot.plot([1, 5], [-numpy.log10(0.05), -numpy.log10(0.05)], ls='--', color='black', alpha=0.5)
    
    matplotlib.pyplot.xlabel('Expression diffference [log$_2$FC]')
    matplotlib.pyplot.ylabel('Significance [-log$_{10}$ P]')
    
    matplotlib.pyplot.grid(ls=':', alpha=0.5)
    matplotlib.pyplot.tight_layout()
    matplotlib.pyplot.show()
    matplotlib.pyplot.close()

    # store csv with responding genes
    storing_file = results_dir + input_file_name.replace('.anti.tsv', '.formatted_results.tsv')
    f = open(storing_file, 'w')
    f.write('ENSEMBL\tGene name\tBiotype\tDescription\tContrast median expression [TPM]\tExpression difference [log2 FC]\tSignificance [-log10 adj. P]\tQuantitative relevance\n')
    for i in range(len(response_genes)):

        ensembl = response_genes[i]

        gene_name = annotation[annotation['ensembl_gene_id'] == ensembl]['external_gene_name'].values[0]
        if isinstance(gene_name, str) == False:
            gene_name = 'not_found'

        biotype = annotation[annotation['ensembl_gene_id'] == ensembl]['gene_biotype'].values[0]
        try:
            description = annotation[annotation['ensembl_gene_id'] == ensembl]['description'].values[0].split(' [')[0]
        except:
            description = annotation[annotation['ensembl_gene_id'] == ensembl]['description'].values[0]
        if isinstance(description, str) == False:
            description = 'not_found'
            
        info = [ensembl, gene_name, biotype, description, str_z[i], str_x[i], str_y[i], srt_qr[i]]
        #print(info)
        info_string = '\t'.join(info) 
        f.write('{}\n'.format(info_string))
    f.close()
    print('info stored in table')
        
    return None

contrasts = [['effect_time_2D.tsv', 'culture', '2D', 'time', 'True'], 
             ['effect_time_3D.tsv', 'culture', '3D', 'time', 'True'],
             ['effect_culture_day2.tsv', 'time', 'two', 'culture', ''],
             ['effect_culture_day14.tsv', 'time', 'fourteen', 'culture', '']
            ]

for contrast in contrasts:
    print("\t".join(contrast))
    volcano_plotter(contrast)

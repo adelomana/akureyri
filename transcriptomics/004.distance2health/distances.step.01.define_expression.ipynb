{
 "cells": [
  {
   "cell_type": "markdown",
   "id": "01e4d7b5-cfa5-41ac-9ab7-1383ec512660",
   "metadata": {},
   "source": [
    "This script quantifies the distance from 2D and 3D cultures wrt. healthy cartilage obtained from GSE114007."
   ]
  },
  {
   "cell_type": "code",
   "execution_count": 1,
   "id": "87f5cbba-fac5-4130-8d51-91ff46226a4f",
   "metadata": {},
   "outputs": [],
   "source": [
    "import pandas"
   ]
  },
  {
   "cell_type": "markdown",
   "id": "918de36e-50e5-46b5-b707-e1f2b652c377",
   "metadata": {},
   "source": [
    "# user-defined variables"
   ]
  },
  {
   "cell_type": "code",
   "execution_count": 2,
   "id": "cc642173-735d-495c-9eef-6d236e2286b9",
   "metadata": {},
   "outputs": [],
   "source": [
    "healthy_data_file = '/Users/adrian/research/akureyri/data/transcriptomics/GSE114007_normal_normalized.counts.txt'\n",
    "cultures_data_file = '/Users/adrian/research/akureyri/results/sleuth_pipeline/sleuth_scaled_reads_bygene.csv'\n",
    "annotation_file = '/Users/adrian/research/akureyri/results/deseq2_pipeline/annotation.tsv'\n",
    "results_file = '/Users/adrian/research/akureyri/results/distances/compiled_original_expression.tsv'"
   ]
  },
  {
   "cell_type": "markdown",
   "id": "44b479e7-4aec-4c77-911a-011ad8c19146",
   "metadata": {},
   "source": [
    "# read info"
   ]
  },
  {
   "cell_type": "code",
   "execution_count": 3,
   "id": "40a06321-8b2e-46ec-b41b-246fa893f521",
   "metadata": {},
   "outputs": [],
   "source": [
    "hdf = pandas.read_csv(healthy_data_file, sep='\\t', index_col=0)\n",
    "hdf.drop(['Average Normal', 'Max'], axis=1, inplace=True)"
   ]
  },
  {
   "cell_type": "code",
   "execution_count": 4,
   "id": "05270998-d689-44d3-9f88-033a03f4e298",
   "metadata": {},
   "outputs": [],
   "source": [
    "cdf = pandas.read_csv(cultures_data_file, sep='\\t', index_col=0)"
   ]
  },
  {
   "cell_type": "code",
   "execution_count": 5,
   "id": "1a32383b-5df2-4519-a847-22eeb2151ebe",
   "metadata": {},
   "outputs": [],
   "source": [
    "annotation = pandas.read_csv(annotation_file, sep='\\t', index_col=0)"
   ]
  },
  {
   "cell_type": "markdown",
   "id": "359f1b18-bbb0-4b26-828a-56f0b3be441e",
   "metadata": {},
   "source": [
    "# analysis"
   ]
  },
  {
   "cell_type": "code",
   "execution_count": 6,
   "id": "213117dc-a488-4058-9719-cf4239cea10c",
   "metadata": {},
   "outputs": [
    {
     "name": "stdout",
     "output_type": "stream",
     "text": [
      "Index(['FN1', 'COMP', 'MALAT1', 'CHI3L2', 'CLU', 'DCN', 'PRELP', 'CILP',\n",
      "       'CHI3L1', 'GPX3',\n",
      "       ...\n",
      "       'XAGE1E', 'XAGE2', 'XAGE2B', 'XGPY2', 'XKRY', 'XKRY2', 'ZBED1',\n",
      "       'ZNF658B', 'ZNF705B', 'ZNF705D'],\n",
      "      dtype='object', name='symbol', length=23710)\n"
     ]
    }
   ],
   "source": [
    "healthy_symbols = hdf.index\n",
    "print(healthy_symbols)"
   ]
  },
  {
   "cell_type": "code",
   "execution_count": 7,
   "id": "e1887927-cbbd-4b1f-91ec-c8576be7c7e8",
   "metadata": {},
   "outputs": [
    {
     "name": "stdout",
     "output_type": "stream",
     "text": [
      "Index(['ENSG00000000003', 'ENSG00000000005', 'ENSG00000000419',\n",
      "       'ENSG00000000457', 'ENSG00000000460', 'ENSG00000000938',\n",
      "       'ENSG00000000971', 'ENSG00000001036', 'ENSG00000001084',\n",
      "       'ENSG00000001167',\n",
      "       ...\n",
      "       'ENSG00000292430', 'ENSG00000293527', 'ENSG00000293542',\n",
      "       'ENSG00000293543', 'ENSG00000293546', 'ENSG00000293548',\n",
      "       'ENSG00000293550', 'ENSG00000293553', 'ENSG00000293563',\n",
      "       'ENSG00000293597'],\n",
      "      dtype='object', length=39400)\n"
     ]
    }
   ],
   "source": [
    "ensembl_ids = cdf.index\n",
    "print(ensembl_ids)"
   ]
  },
  {
   "cell_type": "code",
   "execution_count": 8,
   "id": "e77fd50f-45b4-4cd4-8803-61b6eb8ece61",
   "metadata": {},
   "outputs": [
    {
     "data": {
      "text/html": [
       "<div>\n",
       "<style scoped>\n",
       "    .dataframe tbody tr th:only-of-type {\n",
       "        vertical-align: middle;\n",
       "    }\n",
       "\n",
       "    .dataframe tbody tr th {\n",
       "        vertical-align: top;\n",
       "    }\n",
       "\n",
       "    .dataframe thead th {\n",
       "        text-align: right;\n",
       "    }\n",
       "</style>\n",
       "<table border=\"1\" class=\"dataframe\">\n",
       "  <thead>\n",
       "    <tr style=\"text-align: right;\">\n",
       "      <th></th>\n",
       "      <th>ensembl_transcript_id</th>\n",
       "      <th>ensembl_gene_id</th>\n",
       "      <th>external_gene_name</th>\n",
       "      <th>gene_biotype</th>\n",
       "      <th>description</th>\n",
       "      <th>geneLength</th>\n",
       "    </tr>\n",
       "  </thead>\n",
       "  <tbody>\n",
       "    <tr>\n",
       "      <th>1</th>\n",
       "      <td>ENST00000387314</td>\n",
       "      <td>ENSG00000210049</td>\n",
       "      <td>MT-TF</td>\n",
       "      <td>Mt_tRNA</td>\n",
       "      <td>mitochondrially encoded tRNA-Phe (UUU/C) [Sour...</td>\n",
       "      <td>70</td>\n",
       "    </tr>\n",
       "    <tr>\n",
       "      <th>2</th>\n",
       "      <td>ENST00000389680</td>\n",
       "      <td>ENSG00000211459</td>\n",
       "      <td>MT-RNR1</td>\n",
       "      <td>Mt_rRNA</td>\n",
       "      <td>mitochondrially encoded 12S rRNA [Source:HGNC ...</td>\n",
       "      <td>953</td>\n",
       "    </tr>\n",
       "    <tr>\n",
       "      <th>3</th>\n",
       "      <td>ENST00000387342</td>\n",
       "      <td>ENSG00000210077</td>\n",
       "      <td>MT-TV</td>\n",
       "      <td>Mt_tRNA</td>\n",
       "      <td>mitochondrially encoded tRNA-Val (GUN) [Source...</td>\n",
       "      <td>68</td>\n",
       "    </tr>\n",
       "    <tr>\n",
       "      <th>4</th>\n",
       "      <td>ENST00000387347</td>\n",
       "      <td>ENSG00000210082</td>\n",
       "      <td>MT-RNR2</td>\n",
       "      <td>Mt_rRNA</td>\n",
       "      <td>mitochondrially encoded 16S rRNA [Source:HGNC ...</td>\n",
       "      <td>1558</td>\n",
       "    </tr>\n",
       "    <tr>\n",
       "      <th>5</th>\n",
       "      <td>ENST00000386347</td>\n",
       "      <td>ENSG00000209082</td>\n",
       "      <td>MT-TL1</td>\n",
       "      <td>Mt_tRNA</td>\n",
       "      <td>mitochondrially encoded tRNA-Leu (UUA/G) 1 [So...</td>\n",
       "      <td>74</td>\n",
       "    </tr>\n",
       "  </tbody>\n",
       "</table>\n",
       "</div>"
      ],
      "text/plain": [
       "  ensembl_transcript_id  ensembl_gene_id external_gene_name gene_biotype  \\\n",
       "1       ENST00000387314  ENSG00000210049              MT-TF      Mt_tRNA   \n",
       "2       ENST00000389680  ENSG00000211459            MT-RNR1      Mt_rRNA   \n",
       "3       ENST00000387342  ENSG00000210077              MT-TV      Mt_tRNA   \n",
       "4       ENST00000387347  ENSG00000210082            MT-RNR2      Mt_rRNA   \n",
       "5       ENST00000386347  ENSG00000209082             MT-TL1      Mt_tRNA   \n",
       "\n",
       "                                         description  geneLength  \n",
       "1  mitochondrially encoded tRNA-Phe (UUU/C) [Sour...          70  \n",
       "2  mitochondrially encoded 12S rRNA [Source:HGNC ...         953  \n",
       "3  mitochondrially encoded tRNA-Val (GUN) [Source...          68  \n",
       "4  mitochondrially encoded 16S rRNA [Source:HGNC ...        1558  \n",
       "5  mitochondrially encoded tRNA-Leu (UUA/G) 1 [So...          74  "
      ]
     },
     "execution_count": 8,
     "metadata": {},
     "output_type": "execute_result"
    }
   ],
   "source": [
    "annotation.head()"
   ]
  },
  {
   "cell_type": "code",
   "execution_count": 9,
   "id": "89f8bf5e-9157-4afe-abcc-0bb86f940811",
   "metadata": {},
   "outputs": [
    {
     "data": {
      "text/plain": [
       "(277081, 6)"
      ]
     },
     "execution_count": 9,
     "metadata": {},
     "output_type": "execute_result"
    }
   ],
   "source": [
    "annotation.shape"
   ]
  },
  {
   "cell_type": "markdown",
   "id": "fe5abc12-642f-48ad-9637-4f5c64cce756",
   "metadata": {},
   "source": [
    "## mapp ids"
   ]
  },
  {
   "cell_type": "code",
   "execution_count": 10,
   "id": "5fc14797-385c-4317-908c-0af8c94d7ba2",
   "metadata": {},
   "outputs": [
    {
     "name": "stdout",
     "output_type": "stream",
     "text": [
      "23710\n",
      "WARNING: multiple (2) mapping for MATR3: ['ENSG00000015479', 'ENSG00000280987']. Dropping altogether.\n",
      "WARNING: multiple (2) mapping for SPATA13: ['ENSG00000228741', 'ENSG00000182957']. Dropping altogether.\n",
      "WARNING: multiple (2) mapping for HERC3: ['ENSG00000287542', 'ENSG00000138641']. Dropping altogether.\n",
      "WARNING: multiple (2) mapping for PRICKLE2-AS1: ['ENSG00000241111', 'ENSG00000241572']. Dropping altogether.\n",
      "WARNING: multiple (2) mapping for POLR2J3: ['ENSG00000285437', 'ENSG00000168255']. Dropping altogether.\n",
      "WARNING: multiple (2) mapping for PINX1: ['ENSG00000254093', 'ENSG00000258724']. Dropping altogether.\n",
      "WARNING: multiple (2) mapping for PDE8B: ['ENSG00000113231', 'ENSG00000284762']. Dropping altogether.\n",
      "WARNING: multiple (2) mapping for DNAJC9-AS1: ['ENSG00000227540', 'ENSG00000236756']. Dropping altogether.\n",
      "WARNING: multiple (2) mapping for PDE4C: ['ENSG00000285188', 'ENSG00000105650']. Dropping altogether.\n",
      "WARNING: multiple (2) mapping for ARMCX5-GPRASP2: ['ENSG00000271147', 'ENSG00000286237']. Dropping altogether.\n",
      "WARNING: multiple (2) mapping for C4orf36: ['ENSG00000285458', 'ENSG00000163633']. Dropping altogether.\n",
      "WARNING: multiple (2) mapping for NOX5: ['ENSG00000290203', 'ENSG00000255346']. Dropping altogether.\n",
      "WARNING: multiple (2) mapping for ELFN2: ['ENSG00000243902', 'ENSG00000166897']. Dropping altogether.\n",
      "WARNING: multiple (2) mapping for SIGLEC5: ['ENSG00000105501', 'ENSG00000268500']. Dropping altogether.\n",
      "WARNING: multiple (2) mapping for SFTA3: ['ENSG00000257520', 'ENSG00000229415']. Dropping altogether.\n",
      "20419\n",
      "CPU times: user 3min 4s, sys: 82.2 ms, total: 3min 5s\n",
      "Wall time: 3min 6s\n"
     ]
    }
   ],
   "source": [
    "%%time\n",
    "# this block takes circa 3 min\n",
    "\n",
    "print(len(healthy_symbols))\n",
    "rosetta = {}\n",
    "for symbol in healthy_symbols:\n",
    "    mini = annotation[annotation['external_gene_name'] == symbol]\n",
    "    results = list(set(mini['ensembl_gene_id']))\n",
    "    \n",
    "    if len(results) == 1:\n",
    "        rosetta[results[0]] = symbol\n",
    "    if len(results) > 1:\n",
    "        #print('WARNING: multiple ({}) mapping for {}: {}'.format(len(results), symbol, results[:3]))\n",
    "        # check how many ensembl id I have in my expression df\n",
    "        bi_results = []\n",
    "        for result in results:\n",
    "            if result in ensembl_ids:\n",
    "                bi_results.append(result)\n",
    "        if len(bi_results) == 1:\n",
    "            rosetta[bi_results[0]] = symbol\n",
    "        if len(bi_results) > 1:\n",
    "            print('WARNING: multiple ({}) mapping for {}: {}. Dropping altogether.'.format(len(bi_results), symbol, bi_results[:3]))\n",
    "        \n",
    "print(len(rosetta))"
   ]
  },
  {
   "cell_type": "code",
   "execution_count": 12,
   "id": "9aba6ce9-01f9-4a3b-8a7a-32e8cbac7dc3",
   "metadata": {},
   "outputs": [],
   "source": [
    "for element in rosetta.keys():\n",
    "    #print(element)\n",
    "    retrieved_length_values = list(set(annotation[annotation['ensembl_gene_id'] == element]['geneLength']))\n",
    "    if len(retrieved_length_values) != 1:\n",
    "        print('we have a problem')\n",
    "    rosetta[]"
   ]
  },
  {
   "cell_type": "code",
   "execution_count": null,
   "id": "fd5d4cba-80b8-4df0-884e-8bc135285cf9",
   "metadata": {},
   "outputs": [],
   "source": [
    "annotation['ensembl_gene_id']\n"
   ]
  },
  {
   "cell_type": "code",
   "execution_count": null,
   "id": "e124dfc9-1463-4342-9434-f6bf87e6d8b8",
   "metadata": {},
   "outputs": [],
   "source": [
    "kjkh"
   ]
  },
  {
   "cell_type": "markdown",
   "id": "8debae8b-5182-439a-a7ec-69dde0ad07b4",
   "metadata": {},
   "source": [
    "## join dataframes"
   ]
  },
  {
   "cell_type": "code",
   "execution_count": null,
   "id": "d152a154-6264-4840-a765-992be569c768",
   "metadata": {},
   "outputs": [],
   "source": [
    "df = pandas.DataFrame.from_dict(rosetta, orient='index', columns=['symbol'])\n",
    "print(df.shape)\n",
    "df.head()"
   ]
  },
  {
   "cell_type": "code",
   "execution_count": null,
   "id": "038a56b1-592b-433e-b234-bcea552df076",
   "metadata": {},
   "outputs": [],
   "source": [
    "[df.index]"
   ]
  },
  {
   "cell_type": "code",
   "execution_count": null,
   "id": "07355eed-870a-4dc4-9559-659a8861928c",
   "metadata": {},
   "outputs": [],
   "source": [
    "asd"
   ]
  },
  {
   "cell_type": "code",
   "execution_count": null,
   "id": "b141db88-2bf6-4ca6-a549-7b7ff7db6bf9",
   "metadata": {},
   "outputs": [],
   "source": [
    "new = df.join(hdf, on='symbol')\n",
    "print(new.shape)\n",
    "new.head()"
   ]
  },
  {
   "cell_type": "code",
   "execution_count": null,
   "id": "db51158c-d6d4-47dd-bdfe-80f3f6443a8a",
   "metadata": {},
   "outputs": [],
   "source": [
    "full = new.join(cdf)\n",
    "print(full.shape)\n",
    "full.head()"
   ]
  },
  {
   "cell_type": "code",
   "execution_count": null,
   "id": "08994cc1-5fda-4336-a769-cc927b8a7ef0",
   "metadata": {},
   "outputs": [],
   "source": [
    "print(hdf.loc['FN1', :])\n",
    "print(cdf.loc['ENSG00000115414', :])\n",
    "print()\n",
    "print(df.loc['ENSG00000115414', :])\n",
    "print(new.loc['ENSG00000115414', :])\n",
    "print(full.loc['ENSG00000115414', :])\n",
    "full.head()"
   ]
  },
  {
   "cell_type": "markdown",
   "id": "624bcfd7-9bdb-42b9-a8d3-34810b765ab9",
   "metadata": {},
   "source": [
    "# store"
   ]
  },
  {
   "cell_type": "code",
   "execution_count": null,
   "id": "c21bee5f-9aa6-4f14-859c-09da1f9c9989",
   "metadata": {},
   "outputs": [],
   "source": [
    "full.to_csv(results_file, sep='\\t')"
   ]
  }
 ],
 "metadata": {
  "kernelspec": {
   "display_name": "Python 3 (ipykernel)",
   "language": "python",
   "name": "python3"
  },
  "language_info": {
   "codemirror_mode": {
    "name": "ipython",
    "version": 3
   },
   "file_extension": ".py",
   "mimetype": "text/x-python",
   "name": "python",
   "nbconvert_exporter": "python",
   "pygments_lexer": "ipython3",
   "version": "3.11.9"
  }
 },
 "nbformat": 4,
 "nbformat_minor": 5
}

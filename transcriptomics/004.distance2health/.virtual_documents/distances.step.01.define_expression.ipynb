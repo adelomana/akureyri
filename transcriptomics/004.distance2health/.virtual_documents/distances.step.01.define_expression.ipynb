


import pandas





healthy_data_file = '/Users/adrian/research/akureyri/data/transcriptomics/GSE114007_normal_normalized.counts.txt'
cultures_data_file = '/Users/adrian/research/akureyri/results/sleuth_pipeline/sleuth_scaled_reads_bygene.csv'
annotation_file = '/Users/adrian/research/akureyri/results/deseq2_pipeline/annotation.tsv'
results_file = '/Users/adrian/research/akureyri/results/distances/compiled_original_expression.tsv'





hdf = pandas.read_csv(healthy_data_file, sep='\t', index_col=0)
hdf.drop(['Average Normal', 'Max'], axis=1, inplace=True)


cdf = pandas.read_csv(cultures_data_file, sep='\t', index_col=0)


annotation = pandas.read_csv(annotation_file, sep='\t', index_col=0)





healthy_symbols = hdf.index
print(healthy_symbols)


ensembl_ids = cdf.index
print(ensembl_ids)


annotation.head()


annotation.shape





%%time
# this block takes circa 3 min

print(len(healthy_symbols))
rosetta = {}
for symbol in healthy_symbols:
    mini = annotation[annotation['external_gene_name'] == symbol]
    results = list(set(mini['ensembl_gene_id']))
    
    if len(results) == 1:
        rosetta[results[0]] = symbol
    if len(results) > 1:
        #print('WARNING: multiple ({}) mapping for {}: {}'.format(len(results), symbol, results[:3]))
        # check how many ensembl id I have in my expression df
        bi_results = []
        for result in results:
            if result in ensembl_ids:
                bi_results.append(result)
        if len(bi_results) == 1:
            rosetta[bi_results[0]] = symbol
        if len(bi_results) > 1:
            print('WARNING: multiple ({}) mapping for {}: {}. Dropping altogether.'.format(len(bi_results), symbol, bi_results[:3]))
        
print(len(rosetta))


for element in rosetta.keys():
    print(element)
    retrieved_length_values = list(set(annotation[annotation['ensembl_gene_id'] == element]['geneLength']))
    if len(retrieved_length_values) != 1:
        print('we have a problem')


annotation['ensembl_gene_id']









df = pandas.DataFrame.from_dict(rosetta, orient='index', columns=['symbol'])
print(df.shape)
df.head()


[df.index]


asd


new = df.join(hdf, on='symbol')
print(new.shape)
new.head()


full = new.join(cdf)
print(full.shape)
full.head()


print(hdf.loc['FN1', :])
print(cdf.loc['ENSG00000115414', :])
print()
print(df.loc['ENSG00000115414', :])
print(new.loc['ENSG00000115414', :])
print(full.loc['ENSG00000115414', :])
full.head()





full.to_csv(results_file, sep='\t')
